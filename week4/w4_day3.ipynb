{
 "cells": [
  {
   "cell_type": "markdown",
   "id": "19f40b3f",
   "metadata": {},
   "source": [
    "### Code Generator\n",
    "The requirement: use a Frontier model to generate high performance C++ code from Python code"
   ]
  },
  {
   "cell_type": "code",
   "execution_count": 1,
   "id": "36e831f8",
   "metadata": {},
   "outputs": [],
   "source": [
    "import os\n",
    "import io\n",
    "import sys\n",
    "from dotenv import load_dotenv\n",
    "from openai import OpenAI\n",
    "import google.generativeai\n",
    "import anthropic\n",
    "from IPython.display import Markdown,display,update_display\n",
    "import gradio as gr\n",
    "import subprocess"
   ]
  },
  {
   "cell_type": "code",
   "execution_count": null,
   "id": "0471598f",
   "metadata": {},
   "outputs": [
    {
     "name": "stdout",
     "output_type": "stream",
     "text": [
      "Gemini API connectivity successful!\n",
      "Response: Yes, I am working! I'm a large language model, trained by Google. I'm ready and available to help you with whatever you need.\n",
      "\n",
      "What can I assist you with today?\n"
     ]
    }
   ],
   "source": [
    "## CHECK GEMINI API CONNECTIVITY\n",
    "\n",
    "import google.generativeai as genai\n",
    "import os\n",
    "load_dotenv(override=True)\n",
    "# Make sure your Gemini API key is set in your environment\n",
    "GEMINI_API_KEY = os.getenv(\"GEMINI_API_KEY\")\n",
    "if not GEMINI_API_KEY:\n",
    "    print(\"GEMINI_API_KEY not found in environment variables.\")\n",
    "else:\n",
    "    genai.configure(api_key=GEMINI_API_KEY)\n",
    "    try:\n",
    "        model = genai.GenerativeModel(\"gemini-2.5-flash-lite\")\n",
    "        response = model.generate_content(\"Hello Gemini, are you working?\")\n",
    "        print(\"Gemini API connectivity successful!\")\n",
    "        print(\"Response:\", response.text)\n",
    "    except Exception as e:\n",
    "        print(\"Gemini API connectivity failed:\", e)"
   ]
  },
  {
   "cell_type": "code",
   "execution_count": 5,
   "id": "15cd03f2",
   "metadata": {},
   "outputs": [],
   "source": [
    "# environment\n",
    "\n",
    "load_dotenv(override=True)\n",
    "os.environ['OPENAI_API_KEY'] = os.getenv('OPENAI_API_KEY', 'your-key-if-not-using-env')\n",
    "os.environ['GEMINI_API_KEY'] = os.getenv('GEMINI_API_KEY', 'your-key-if-not-using-env')"
   ]
  },
  {
   "cell_type": "code",
   "execution_count": 6,
   "id": "520c28e1",
   "metadata": {},
   "outputs": [],
   "source": [
    "# initialize\n",
    "# NOTE - option to use ultra-low cost models by uncommenting last 2 lines\n",
    "\n",
    "openai = OpenAI()\n",
    "gemini = genai.GenerativeModel()\n",
    "OPENAI_MODEL = \"gpt-4o\"\n",
    "GEMINI_MODEL = \"gemini-2.5-flash-lite\""
   ]
  },
  {
   "cell_type": "code",
   "execution_count": 7,
   "id": "c32fb0d0",
   "metadata": {},
   "outputs": [],
   "source": [
    "system_message = \"You are an assistant that reimplements Python code in high performance C++ for an M1 Mac. \"\n",
    "system_message += \"Respond only with C++ code; use comments sparingly and do not provide any explanation other than occasional comments. \"\n",
    "system_message += \"The C++ response needs to produce an identical output in the fastest possible time.\""
   ]
  },
  {
   "cell_type": "code",
   "execution_count": 8,
   "id": "3295b6d8",
   "metadata": {},
   "outputs": [],
   "source": [
    "def user_prompt_for(python):\n",
    "    user_prompt = \"Rewrite this Python code in C++ with the fastest possible implementation that produces identical output in the least time. \"\n",
    "    user_prompt += \"Respond only with C++ code; do not explain your work other than a few comments. \"\n",
    "    user_prompt += \"Pay attention to number types to ensure no int overflows. Remember to #include all necessary C++ packages such as iomanip.\\n\\n\"\n",
    "    user_prompt += python\n",
    "    return user_prompt"
   ]
  },
  {
   "cell_type": "code",
   "execution_count": 9,
   "id": "fe353cc7",
   "metadata": {},
   "outputs": [],
   "source": [
    "def messages_for(python):\n",
    "    return [\n",
    "        {\"role\": \"system\", \"content\": system_message},\n",
    "        {\"role\": \"user\", \"content\": user_prompt_for(python)}\n",
    "    ]"
   ]
  },
  {
   "cell_type": "code",
   "execution_count": 10,
   "id": "146adbc3",
   "metadata": {},
   "outputs": [],
   "source": [
    "# write to a file called optimized.cpp\n",
    "\n",
    "def write_output(cpp):\n",
    "    code = cpp.replace(\"```cpp\",\"\").replace(\"```\",\"\")\n",
    "    with open(\"optimized.cpp\", \"w\") as f:\n",
    "        f.write(code)"
   ]
  },
  {
   "cell_type": "code",
   "execution_count": 11,
   "id": "9e2cdf30",
   "metadata": {},
   "outputs": [],
   "source": [
    "def optimize_gpt(python):    \n",
    "    stream = openai.chat.completions.create(model=OPENAI_MODEL, messages=messages_for(python), stream=True)\n",
    "    reply = \"\"\n",
    "    for chunk in stream:\n",
    "        fragment = chunk.choices[0].delta.content or \"\"\n",
    "        reply += fragment\n",
    "        print(fragment, end='', flush=True)\n",
    "    write_output(reply)"
   ]
  },
  {
   "cell_type": "markdown",
   "id": "5f0ecaff",
   "metadata": {},
   "source": [
    "def optimize_gemini(python):\n",
    "    stream = openai.chat.completions.create(model=GEMINI_MODEL, messages=messages_for(python), stream=True)\n",
    "    reply = \"\"\n",
    "    for chunk in stream:\n",
    "        fragment = chunk.choices[0].delta.content or \"\"\n",
    "        reply += fragment\n",
    "        print(fragment, end='', flush=True)\n",
    "    write_output(reply)\n"
   ]
  },
  {
   "cell_type": "code",
   "execution_count": 19,
   "id": "b386e06a",
   "metadata": {},
   "outputs": [],
   "source": [
    "def optimize_gemini(python):\n",
    "    gemini = genai.GenerativeModel(\"gemini-2.5-flash-lite\")\n",
    "    prompt = user_prompt_for(python)\n",
    "    response = gemini.generate_content(prompt)\n",
    "    cpp_code = response.text\n",
    "    print(cpp_code)\n",
    "    write_output(cpp_code)"
   ]
  },
  {
   "cell_type": "code",
   "execution_count": 13,
   "id": "e86d9734",
   "metadata": {},
   "outputs": [],
   "source": [
    "pi = \"\"\"\n",
    "import time\n",
    "\n",
    "def calculate(iterations, param1, param2):\n",
    "    result = 1.0\n",
    "    for i in range(1, iterations+1):\n",
    "        j = i * param1 - param2\n",
    "        result -= (1/j)\n",
    "        j = i * param1 + param2\n",
    "        result += (1/j)\n",
    "    return result\n",
    "\n",
    "start_time = time.time()\n",
    "result = calculate(100_000_000, 4, 1) * 4\n",
    "end_time = time.time()\n",
    "\n",
    "print(f\"Result: {result:.12f}\")\n",
    "print(f\"Execution Time: {(end_time - start_time):.6f} seconds\")\n",
    "\"\"\""
   ]
  },
  {
   "cell_type": "code",
   "execution_count": 14,
   "id": "75d1196b",
   "metadata": {},
   "outputs": [
    {
     "name": "stdout",
     "output_type": "stream",
     "text": [
      "Result: 3.141592658589\n",
      "Execution Time: 6.411320 seconds\n"
     ]
    }
   ],
   "source": [
    "exec(pi)"
   ]
  },
  {
   "cell_type": "code",
   "execution_count": 15,
   "id": "0bf6edb8",
   "metadata": {},
   "outputs": [
    {
     "name": "stdout",
     "output_type": "stream",
     "text": [
      "```cpp\n",
      "#include <iostream>\n",
      "#include <iomanip>\n",
      "#include <chrono>\n",
      "\n",
      "// Calculate function in C++\n",
      "double calculate(long iterations, long param1, long param2) {\n",
      "    double result = 1.0;\n",
      "    for (long i = 1; i <= iterations; ++i) {\n",
      "        long j = i * param1 - param2;\n",
      "        result -= (1.0 / j);\n",
      "        j = i * param1 + param2;\n",
      "        result += (1.0 / j);\n",
      "    }\n",
      "    return result;\n",
      "}\n",
      "\n",
      "int main() {\n",
      "    // Start timing\n",
      "    auto start_time = std::chrono::high_resolution_clock::now();\n",
      "\n",
      "    // Calculate result\n",
      "    double result = calculate(100000000, 4, 1) * 4;\n",
      "\n",
      "    // End timing\n",
      "    auto end_time = std::chrono::high_resolution_clock::now();\n",
      "    std::chrono::duration<double> elapsed = end_time - start_time;\n",
      "\n",
      "    // Output result and execution time with specified precision\n",
      "    std::cout << std::fixed << std::setprecision(12) << \"Result: \" << result << std::endl;\n",
      "    std::cout << \"Execution Time: \" << std::fixed << std::setprecision(6) << elapsed.count() << \" seconds\" << std::endl;\n",
      "\n",
      "    return 0;\n",
      "}\n",
      "```"
     ]
    }
   ],
   "source": [
    "optimize_gpt(pi)"
   ]
  },
  {
   "cell_type": "code",
   "execution_count": 16,
   "id": "fe86b4e6",
   "metadata": {},
   "outputs": [
    {
     "name": "stdout",
     "output_type": "stream",
     "text": [
      "Result: 3.141592658589\n",
      "Execution Time: 6.859081 seconds\n"
     ]
    }
   ],
   "source": [
    "exec(pi)"
   ]
  },
  {
   "cell_type": "markdown",
   "id": "95ebfeed",
   "metadata": {},
   "source": [
    "#### Compiling C++ and executing\n",
    "This next cell contains the command to compile a C++ file on my M1 Mac.\n",
    "It compiles the file optimized.cpp into an executable called optimized\n",
    "Then it runs the program called optimized\n",
    "\n",
    "In the next lab (day4), a student has contributed a full solution that compiles to efficient code on Mac, PC and Linux!\n",
    "\n",
    "You can wait for this, or you can google (or ask ChatGPT!) for how to do this on your platform, then replace the lines below. If you're not comfortable with this step, you can skip it for sure - I'll show you exactly how it performs on my Mac.\n",
    "\n",
    "OR alternatively: student Sandeep K.G. points out that you can run Python and C++ code online to test it out that way. Thank you Sandeep!\n",
    "\n",
    "Not an exact comparison but you can still get the idea of performance difference. For example here: https://www.programiz.com/cpp-programming/online-compiler/"
   ]
  },
  {
   "cell_type": "code",
   "execution_count": 17,
   "id": "40e836c0",
   "metadata": {},
   "outputs": [
    {
     "name": "stdout",
     "output_type": "stream",
     "text": [
      "Result: 3.141592658589\n",
      "Execution Time: 0.114756 seconds\n"
     ]
    }
   ],
   "source": [
    "# Compile C++ and run the executable\n",
    "\n",
    "!clang++ -O3 -std=c++17 -march=armv8.3-a -o optimized optimized.cpp\n",
    "!./optimized"
   ]
  },
  {
   "cell_type": "code",
   "execution_count": 24,
   "id": "96d73584",
   "metadata": {},
   "outputs": [
    {
     "name": "stdout",
     "output_type": "stream",
     "text": [
      "```cpp\n",
      "#include <iostream>\n",
      "#include <iomanip>\n",
      "#include <chrono>\n",
      "\n",
      "int main() {\n",
      "    // Use long double for higher precision, suitable for the calculations.\n",
      "    long double result = 1.0;\n",
      "    \n",
      "    // Define parameters as long long to avoid potential overflow in intermediate calculations.\n",
      "    long long iterations = 100000000LL;\n",
      "    long long param1 = 4LL;\n",
      "    long long param2 = 1LL;\n",
      "\n",
      "    // Record start time using chrono for high-resolution timing.\n",
      "    auto start_time = std::chrono::high_resolution_clock::now();\n",
      "\n",
      "    // Optimized loop to reduce function call overhead and potential compiler optimizations.\n",
      "    // The loop structure and calculations are directly translated.\n",
      "    for (long long i = 1; i <= iterations; ++i) {\n",
      "        // Calculate j using long long to prevent overflow.\n",
      "        long long j1 = i * param1 - param2;\n",
      "        result -= (1.0L / j1); // Use 1.0L for long double literal.\n",
      "        \n",
      "        long long j2 = i * param1 + param2;\n",
      "        result += (1.0L / j2);\n",
      "    }\n",
      "\n",
      "    // Multiply the final result by 4.0L.\n",
      "    result *= 4.0L;\n",
      "\n",
      "    // Record end time.\n",
      "    auto end_time = std::chrono::high_resolution_clock::now();\n",
      "\n",
      "    // Calculate the elapsed time.\n",
      "    std::chrono::duration<double> elapsed_time = end_time - start_time;\n",
      "\n",
      "    // Print the result with the specified precision.\n",
      "    std::cout << std::fixed << std::setprecision(12);\n",
      "    std::cout << \"Result: \" << result << std::endl;\n",
      "\n",
      "    // Print the execution time with the specified precision.\n",
      "    std::cout << std::fixed << std::setprecision(6);\n",
      "    std::cout << \"Execution Time: \" << elapsed_time.count() << \" seconds\" << std::endl;\n",
      "\n",
      "    return 0;\n",
      "}\n",
      "```\n"
     ]
    }
   ],
   "source": [
    "optimize_gemini(pi)"
   ]
  },
  {
   "cell_type": "code",
   "execution_count": 25,
   "id": "7ca34309",
   "metadata": {},
   "outputs": [
    {
     "name": "stdout",
     "output_type": "stream",
     "text": [
      "Result: 3.141592658589\n",
      "Execution Time: 0.127710 seconds\n"
     ]
    }
   ],
   "source": [
    "# Repeat for Gemini - again, use the right approach for your platform\n",
    "\n",
    "!clang++ -O3 -std=c++17 -march=armv8.3-a -o optimized optimized.cpp\n",
    "!./optimized"
   ]
  },
  {
   "cell_type": "code",
   "execution_count": 26,
   "id": "0d05875e",
   "metadata": {},
   "outputs": [],
   "source": [
    "def stream_gpt(python):    \n",
    "    stream = openai.chat.completions.create(model=OPENAI_MODEL, messages=messages_for(python), stream=True)\n",
    "    reply = \"\"\n",
    "    for chunk in stream:\n",
    "        fragment = chunk.choices[0].delta.content or \"\"\n",
    "        reply += fragment\n",
    "        yield reply.replace('```cpp\\n','').replace('```','')"
   ]
  },
  {
   "cell_type": "code",
   "execution_count": 31,
   "id": "891fa8a2",
   "metadata": {},
   "outputs": [],
   "source": [
    "def stream_gemini(python):\n",
    "    gemini_model = genai.GenerativeModel(GEMINI_MODEL)\n",
    "    prompt = user_prompt_for(python)\n",
    "    result = gemini_model.generate_content(prompt, stream=True)\n",
    "    reply = \"\"\n",
    "    for chunk in result:\n",
    "        text = getattr(chunk, \"text\", str(chunk))\n",
    "        reply += text\n",
    "        yield reply.replace('```cpp\\n','').replace('```','')"
   ]
  },
  {
   "cell_type": "code",
   "execution_count": 29,
   "id": "0d3e7b68",
   "metadata": {},
   "outputs": [],
   "source": [
    "def optimize(python, model):\n",
    "    if model==\"GPT\":\n",
    "        result = stream_gpt(python)\n",
    "    elif model==\"Gemini\":\n",
    "        result = stream_gemini(python)\n",
    "    else:\n",
    "        raise ValueError(\"Unknown model\")\n",
    "    for stream_so_far in result:\n",
    "        yield stream_so_far   "
   ]
  },
  {
   "cell_type": "code",
   "execution_count": 32,
   "id": "aba24b99",
   "metadata": {},
   "outputs": [
    {
     "name": "stdout",
     "output_type": "stream",
     "text": [
      "* Running on local URL:  http://127.0.0.1:7861\n",
      "* To create a public link, set `share=True` in `launch()`.\n"
     ]
    },
    {
     "data": {
      "text/html": [
       "<div><iframe src=\"http://127.0.0.1:7861/\" width=\"100%\" height=\"500\" allow=\"autoplay; camera; microphone; clipboard-read; clipboard-write;\" frameborder=\"0\" allowfullscreen></iframe></div>"
      ],
      "text/plain": [
       "<IPython.core.display.HTML object>"
      ]
     },
     "metadata": {},
     "output_type": "display_data"
    },
    {
     "data": {
      "text/plain": []
     },
     "execution_count": 32,
     "metadata": {},
     "output_type": "execute_result"
    }
   ],
   "source": [
    "with gr.Blocks() as ui:\n",
    "    with gr.Row():\n",
    "        python = gr.Textbox(label=\"Python code:\", lines=10, value=pi)\n",
    "        cpp = gr.Textbox(label=\"C++ code:\", lines=10)\n",
    "    with gr.Row():\n",
    "        model = gr.Dropdown([\"GPT\", \"Gemini\"], label=\"Select model\", value=\"GPT\")\n",
    "        convert = gr.Button(\"Convert code\")\n",
    "\n",
    "    convert.click(optimize, inputs=[python, model], outputs=[cpp])\n",
    "\n",
    "ui.launch(inbrowser=True)"
   ]
  },
  {
   "cell_type": "code",
   "execution_count": 33,
   "id": "bb9f7e14",
   "metadata": {},
   "outputs": [],
   "source": [
    "def execute_python(code):\n",
    "    try:\n",
    "        output = io.StringIO()\n",
    "        sys.stdout = output\n",
    "        exec(code)\n",
    "    finally:\n",
    "        sys.stdout = sys.__stdout__\n",
    "    return output.getvalue()"
   ]
  },
  {
   "cell_type": "code",
   "execution_count": 34,
   "id": "0555c0d0",
   "metadata": {},
   "outputs": [],
   "source": [
    "# You'll need to change the code in the try block to compile the C++ code for your platform\n",
    "# I pasted this into Claude's chat UI with a request for it to give me a version for an Intel PC,\n",
    "# and it responded with something that looks perfect - you can try a similar approach for your platform.\n",
    "\n",
    "# M1 Mac version to compile and execute optimized C++ code:\n",
    "\n",
    "def execute_cpp(code):\n",
    "        write_output(code)\n",
    "        try:\n",
    "            compile_cmd = [\"clang++\", \"-Ofast\", \"-std=c++17\", \"-march=armv8.5-a\", \"-mtune=apple-m1\", \"-mcpu=apple-m1\", \"-o\", \"optimized\", \"optimized.cpp\"]\n",
    "            compile_result = subprocess.run(compile_cmd, check=True, text=True, capture_output=True)\n",
    "            run_cmd = [\"./optimized\"]\n",
    "            run_result = subprocess.run(run_cmd, check=True, text=True, capture_output=True)\n",
    "            return run_result.stdout\n",
    "        except subprocess.CalledProcessError as e:\n",
    "            return f\"An error occurred:\\n{e.stderr}\""
   ]
  },
  {
   "cell_type": "code",
   "execution_count": 35,
   "id": "253d1af6",
   "metadata": {},
   "outputs": [],
   "source": [
    "css = \"\"\"\n",
    ".python {background-color: #306998;}\n",
    ".cpp {background-color: #050;}\n",
    "\"\"\""
   ]
  },
  {
   "cell_type": "code",
   "execution_count": 38,
   "id": "8a9914dd",
   "metadata": {},
   "outputs": [
    {
     "data": {
      "text/html": [
       "<div><iframe src=\"http://127.0.0.1:7863/\" width=\"100%\" height=\"500\" allow=\"autoplay; camera; microphone; clipboard-read; clipboard-write;\" frameborder=\"0\" allowfullscreen></iframe></div>"
      ],
      "text/plain": [
       "<IPython.core.display.HTML object>"
      ]
     },
     "metadata": {},
     "output_type": "display_data"
    },
    {
     "data": {
      "text/plain": []
     },
     "execution_count": 38,
     "metadata": {},
     "output_type": "execute_result"
    }
   ],
   "source": [
    "with gr.Blocks(css=css) as ui:\n",
    "    gr.Markdown(\"## Convert code from Python to C++\")\n",
    "    with gr.Row():\n",
    "        python = gr.Textbox(label=\"Python code:\", value=pi, lines=10)\n",
    "        cpp = gr.Textbox(label=\"C++ code:\", lines=10)\n",
    "    with gr.Row():\n",
    "        model = gr.Dropdown([\"GPT\", \"Gemini\"], label=\"Select model\", value=\"GPT\")\n",
    "    with gr.Row():\n",
    "        convert = gr.Button(\"Convert code\")\n",
    "    with gr.Row():\n",
    "        python_run = gr.Button(\"Run Python\")\n",
    "        cpp_run = gr.Button(\"Run C++\")\n",
    "    with gr.Row():\n",
    "        python_out = gr.TextArea(label=\"Python result:\", elem_classes=[\"python\"])\n",
    "        cpp_out = gr.TextArea(label=\"C++ result:\", elem_classes=[\"cpp\"])\n",
    "\n",
    "    convert.click(optimize, inputs=[python, model], outputs=[cpp])\n",
    "    python_run.click(execute_python, inputs=[python], outputs=[python_out])\n",
    "    cpp_run.click(execute_cpp, inputs=[cpp], outputs=[cpp_out])\n",
    "\n",
    "ui.launch(inbrowser=True)"
   ]
  },
  {
   "cell_type": "markdown",
   "id": "856a5dce",
   "metadata": {},
   "source": [
    "## Gemini: \n",
    "Result: 3.141592658590\n",
    "Execution Time: 0.047515 seconds\n",
    "\n",
    "## Chatgpt\n",
    "Result: 3.141592658590\n",
    "Execution Time: 0.055739708000 seconds"
   ]
  }
 ],
 "metadata": {
  "kernelspec": {
   "display_name": "venv (3.12.7)",
   "language": "python",
   "name": "python3"
  },
  "language_info": {
   "codemirror_mode": {
    "name": "ipython",
    "version": 3
   },
   "file_extension": ".py",
   "mimetype": "text/x-python",
   "name": "python",
   "nbconvert_exporter": "python",
   "pygments_lexer": "ipython3",
   "version": "3.12.7"
  }
 },
 "nbformat": 4,
 "nbformat_minor": 5
}
